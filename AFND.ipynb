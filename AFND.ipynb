{
 "cells": [
  {
   "cell_type": "markdown",
   "metadata": {},
   "source": [
    "Esse código é referente a um AFND, Autômato Finito Não Determinístico. As variáveis responsáveis pela construção do algoritmo tem como entrada os estados, os alfabetos e a quantidade de transições que podem ser feitas. A classe Tupla foi criada para armazenar o estado em que está o automato e o restante da palavra a ser consumida, isso será feito em uma pilha de Tuplas."
   ]
  },
  {
   "cell_type": "code",
   "execution_count": 1,
   "metadata": {},
   "outputs": [],
   "source": [
    "class Tupla {\n",
    "     String estado;\n",
    "     String palavra;\n",
    " } "
   ]
  },
  {
   "cell_type": "code",
   "execution_count": 2,
   "metadata": {},
   "outputs": [
    {
     "name": "stdout",
     "output_type": "stream",
     "text": [
      "0 1\n",
      "a b\n",
      "3\n"
     ]
    }
   ],
   "source": [
    "\n",
    "        HashMap <String,ArrayList<String>>dicionario= new HashMap <>();\n",
    "        Stack<Tupla> pilha = new Stack<Tupla>();     \n",
    "        HashMap<String, Integer> finais= new HashMap <>();\n",
    "\n",
    "        Scanner e= new Scanner (System.in);\n",
    "        \n",
    "        String[]  ocd;\n",
    "     \n",
    "        String tripla;\n",
    "        String estados;\n",
    "        String alfabeto;\n",
    "        String estado_inicial;\n",
    "        String estado_final;\n",
    "        String[] estados_finais;     \n",
    "        String[] palavras;\n",
    "        int t,z,y=0;\n",
    "        boolean contem;\n",
    "        String chave; \n",
    "      \n",
    "        estados=e.nextLine();\n",
    "        alfabeto=e.nextLine();\n",
    "        t=Integer.parseInt(e.nextLine());"
   ]
  },
  {
   "cell_type": "markdown",
   "metadata": {},
   "source": [
    "Nessa parte do algoritimo são armazenados os valores referentes as transições do autômato em uma tabela Hash, onde a chave são os estados do autômato junto com a palavra a ser consumida, e o valor relacionado a chave é um Array com os possíveis estados de destino. Essa parte do código tem como entradas os estados finais, o estado inicial. Os estados finais são armazenados em uma tabela Hash de finais."
   ]
  },
  {
   "cell_type": "code",
   "execution_count": 3,
   "metadata": {},
   "outputs": [
    {
     "name": "stdout",
     "output_type": "stream",
     "text": [
      "0 a 0\n",
      "0 b 0\n",
      "0 b 1\n",
      "0\n",
      "1\n"
     ]
    }
   ],
   "source": [
    "while(y<t){     \n",
    "    z=0;   \n",
    "       tripla=e.nextLine();\n",
    "       ocd=tripla.split(\" \");\n",
    "       chave=(ocd[z].concat(ocd[z+1]));\n",
    "       \n",
    "       if (!dicionario.containsKey(chave)){\n",
    "          ArrayList<String> estado = new ArrayList<>();\n",
    "          estado.add(ocd[z+2]);\n",
    "          dicionario.put(chave,estado);\n",
    "        }else { dicionario.get(chave).add(ocd[z+2]);   }\n",
    "          y++;\n",
    "    }\n",
    "        \n",
    "     estado_inicial=e.nextLine();\n",
    "     estado_final=e.nextLine();\n",
    "     estados_finais=estado_final.split(\" \");\n",
    "       \n",
    "     for(int i=0;i<estados_finais.length;i++){  \n",
    "      finais.put(estados_finais[i], i);\n",
    "       }"
   ]
  },
  {
   "cell_type": "markdown",
   "metadata": {},
   "source": [
    "Essa parte do algoritmo é o responsável pela entrada das palavras e pela verificação delas no autômato. Para isso a cada palavra verificada é criado uma tupla para armazenar o estado atual do autômato e o restante da palavra a ser consumida, essa tupla é guardada em uma pilha. Em cada caractere consumido é criado uma pilha com o estado atual e o restante da palavra a ser consumida (Tupla). Para verificar se a palavra foi toda consumida e aceita é verificado se o tamanho da palavra é 0 e se o estado é um estado final. Em toda interação é dado um push na pilha para verificar se a palavra foi consumida e está em seu estado final."
   ]
  },
  {
   "cell_type": "code",
   "execution_count": 4,
   "metadata": {},
   "outputs": [
    {
     "name": "stdout",
     "output_type": "stream",
     "text": [
      "ababa aaaa abbbb ababab abb\n",
      "N\n",
      "N\n",
      "S\n",
      "S\n",
      "S\n"
     ]
    }
   ],
   "source": [
    "String palavra;\n",
    " palavra=e.nextLine();\n",
    " palavras=palavra.split(\" \");\n",
    "\n",
    " Tupla a;   \n",
    " String p;\n",
    " \n",
    " for(int j=0;j<palavras.length;j++){ \n",
    "   Tupla tupla=new Tupla();\n",
    "   tupla.estado=estado_inicial;  \n",
    "   tupla.palavra= palavras[j];\n",
    "   pilha.add(tupla);                \n",
    "     \n",
    "   contem=false;                 \n",
    "   \n",
    "   while (pilha.size()>0){    \n",
    "       \n",
    "       a=pilha.pop();             \n",
    "       \n",
    "       \n",
    "       if(a.palavra.length()==0){                   \n",
    "           if(finais.containsKey(a.estado)){\n",
    "               contem=true;                                   \n",
    "               pilha.clear();\n",
    "           }\n",
    "              \n",
    "           \n",
    "       }else{                                                 \n",
    "        \n",
    "             \n",
    "     p=a.palavra.substring(1, a.palavra.length());       \n",
    "     String cha=(a.estado.concat(a.palavra.substring(0, 1)));   \n",
    "     if(dicionario.containsKey(cha)){                     \n",
    "                     \n",
    "         for(String u : dicionario.get(cha)) {                \n",
    "             Tupla tupla1=new Tupla();\n",
    "             tupla1.estado=u;\n",
    "             tupla1.palavra=p;\n",
    "             pilha.push(tupla1);    \n",
    "                                          \n",
    "                  }      \n",
    "             }    \n",
    "     \n",
    "       }   \n",
    "             \n",
    "   }  \n",
    "   \n",
    "   if(contem){\n",
    "       System.out.println(\"S\");\n",
    "       \n",
    "   }else {\n",
    "       System.out.println(\"N\");\n",
    "   }\n",
    "     \n",
    " }    \n",
    "  \n"
   ]
  },
  {
   "cell_type": "markdown",
   "metadata": {},
   "source": [
    "Código do aluno: Adenilton Morais Arcanjo "
   ]
  }
 ],
 "metadata": {
  "kernelspec": {
   "display_name": "Java",
   "language": "java",
   "name": "java"
  },
  "language_info": {
   "codemirror_mode": "java",
   "file_extension": ".jshell",
   "mimetype": "text/x-java-source",
   "name": "Java",
   "pygments_lexer": "java",
   "version": "11.0.3+7"
  }
 },
 "nbformat": 4,
 "nbformat_minor": 2
}
